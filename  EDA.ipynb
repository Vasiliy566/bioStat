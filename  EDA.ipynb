{
 "cells": [
  {
   "cell_type": "code",
   "execution_count": 206,
   "metadata": {},
   "outputs": [
    {
     "data": {
      "text/html": [
       "<div>\n",
       "<style scoped>\n",
       "    .dataframe tbody tr th:only-of-type {\n",
       "        vertical-align: middle;\n",
       "    }\n",
       "\n",
       "    .dataframe tbody tr th {\n",
       "        vertical-align: top;\n",
       "    }\n",
       "\n",
       "    .dataframe thead th {\n",
       "        text-align: right;\n",
       "    }\n",
       "</style>\n",
       "<table border=\"1\" class=\"dataframe\">\n",
       "  <thead>\n",
       "    <tr style=\"text-align: right;\">\n",
       "      <th></th>\n",
       "      <th>Archer(Women)</th>\n",
       "      <th>Total score (1)</th>\n",
       "      <th>1st Half</th>\n",
       "      <th>2nd Half</th>\n",
       "      <th>Xs</th>\n",
       "      <th>Total score (2)</th>\n",
       "    </tr>\n",
       "  </thead>\n",
       "  <tbody>\n",
       "    <tr>\n",
       "      <th>0</th>\n",
       "      <td>Park Sung-Hyun (KOR)</td>\n",
       "      <td>673</td>\n",
       "      <td>336</td>\n",
       "      <td>337</td>\n",
       "      <td>12</td>\n",
       "      <td>679</td>\n",
       "    </tr>\n",
       "    <tr>\n",
       "      <th>1</th>\n",
       "      <td>Yun Ok-Hee (KOR)</td>\n",
       "      <td>667</td>\n",
       "      <td>336</td>\n",
       "      <td>331</td>\n",
       "      <td>14</td>\n",
       "      <td>660</td>\n",
       "    </tr>\n",
       "    <tr>\n",
       "      <th>2</th>\n",
       "      <td>Joo Hyun-Jung (KOR)</td>\n",
       "      <td>664</td>\n",
       "      <td>339</td>\n",
       "      <td>325</td>\n",
       "      <td>10</td>\n",
       "      <td>649</td>\n",
       "    </tr>\n",
       "    <tr>\n",
       "      <th>3</th>\n",
       "      <td>Khatuna Narimanidze (GEO)</td>\n",
       "      <td>663</td>\n",
       "      <td>330</td>\n",
       "      <td>333</td>\n",
       "      <td>12</td>\n",
       "      <td>678</td>\n",
       "    </tr>\n",
       "    <tr>\n",
       "      <th>4</th>\n",
       "      <td>Kwon Un Sil (PRK)</td>\n",
       "      <td>656</td>\n",
       "      <td>324</td>\n",
       "      <td>332</td>\n",
       "      <td>9</td>\n",
       "      <td>660</td>\n",
       "    </tr>\n",
       "    <tr>\n",
       "      <th>...</th>\n",
       "      <td>...</td>\n",
       "      <td>...</td>\n",
       "      <td>...</td>\n",
       "      <td>...</td>\n",
       "      <td>...</td>\n",
       "      <td>...</td>\n",
       "    </tr>\n",
       "    <tr>\n",
       "      <th>59</th>\n",
       "      <td>Najmeh Abtin (IRI)</td>\n",
       "      <td>568</td>\n",
       "      <td>278</td>\n",
       "      <td>290</td>\n",
       "      <td>6</td>\n",
       "      <td>604</td>\n",
       "    </tr>\n",
       "    <tr>\n",
       "      <th>60</th>\n",
       "      <td>Dorji Dema (BHU)</td>\n",
       "      <td>567</td>\n",
       "      <td>283</td>\n",
       "      <td>284</td>\n",
       "      <td>2</td>\n",
       "      <td>661</td>\n",
       "    </tr>\n",
       "    <tr>\n",
       "      <th>61</th>\n",
       "      <td>Sigrid Romero (COL)</td>\n",
       "      <td>551</td>\n",
       "      <td>279</td>\n",
       "      <td>272</td>\n",
       "      <td>1</td>\n",
       "      <td>649</td>\n",
       "    </tr>\n",
       "    <tr>\n",
       "      <th>62</th>\n",
       "      <td>Albina Kamaletdinova (TJK)</td>\n",
       "      <td>547</td>\n",
       "      <td>294</td>\n",
       "      <td>253</td>\n",
       "      <td>7</td>\n",
       "      <td>563</td>\n",
       "    </tr>\n",
       "    <tr>\n",
       "      <th>63</th>\n",
       "      <td>Khadija Abbouda (MAR)</td>\n",
       "      <td>539</td>\n",
       "      <td>270</td>\n",
       "      <td>269</td>\n",
       "      <td>4</td>\n",
       "      <td>661</td>\n",
       "    </tr>\n",
       "  </tbody>\n",
       "</table>\n",
       "<p>64 rows × 6 columns</p>\n",
       "</div>"
      ],
      "text/plain": [
       "                 Archer(Women)  Total score (1)  1st Half  2nd Half  Xs  \\\n",
       "0         Park Sung-Hyun (KOR)              673       336       337  12   \n",
       "1             Yun Ok-Hee (KOR)              667       336       331  14   \n",
       "2          Joo Hyun-Jung (KOR)              664       339       325  10   \n",
       "3    Khatuna Narimanidze (GEO)              663       330       333  12   \n",
       "4            Kwon Un Sil (PRK)              656       324       332   9   \n",
       "..                         ...              ...       ...       ...  ..   \n",
       "59          Najmeh Abtin (IRI)              568       278       290   6   \n",
       "60            Dorji Dema (BHU)              567       283       284   2   \n",
       "61         Sigrid Romero (COL)              551       279       272   1   \n",
       "62  Albina Kamaletdinova (TJK)              547       294       253   7   \n",
       "63       Khadija Abbouda (MAR)              539       270       269   4   \n",
       "\n",
       "    Total score (2)  \n",
       "0               679  \n",
       "1               660  \n",
       "2               649  \n",
       "3               678  \n",
       "4               660  \n",
       "..              ...  \n",
       "59              604  \n",
       "60              661  \n",
       "61              649  \n",
       "62              563  \n",
       "63              661  \n",
       "\n",
       "[64 rows x 6 columns]"
      ]
     },
     "execution_count": 206,
     "metadata": {},
     "output_type": "execute_result"
    }
   ],
   "source": [
    "import pandas as pd\n",
    "import pandas_profiling\n",
    "import numpy as np\n",
    "import matplotlib.pyplot as plt\n",
    "\n",
    "# считываем данные, предварительно переведенные из tsv в csv\n",
    "#df = pd.read_csv('var11.csv')\n",
    "df"
   ]
  },
  {
   "cell_type": "code",
   "execution_count": 39,
   "metadata": {},
   "outputs": [
    {
     "data": {
      "text/plain": [
       "643.25"
      ]
     },
     "execution_count": 39,
     "metadata": {},
     "output_type": "execute_result"
    }
   ],
   "source": [
    "import math\n",
    "import functools\n",
    "# функция для подсчета процентилей \n",
    "def percentile(N, percent, key=lambda x:x):\n",
    "    k = (len(N)-1) * percent\n",
    "    f = math.floor(k)\n",
    "    c = math.ceil(k)\n",
    "    if f == c:\n",
    "        return key(N[int(k)])\n",
    "    d0 = key(N[int(f)]) * (c-k)\n",
    "    d1 = key(N[int(c)]) * (k-f)\n",
    "    return d0+d1\n"
   ]
  },
  {
   "cell_type": "code",
   "execution_count": 202,
   "metadata": {},
   "outputs": [],
   "source": [
    "import math\n",
    "\n",
    "sum_ = [0] * 6 # сумма для каждого показателя\n",
    "total = [0] * 6 # количество\n",
    "std_dev = [0] * 6 # (std_dev[i] / total[i]) ** 0.5 - стандартное отклонение\n",
    "mid = [0] * 6  # среднее\n",
    "\n",
    "for i in range(1, 6):\n",
    "    for item in df.to_numpy():\n",
    "        sum_[i] += item[i]\n",
    "        total[i] += 1\n",
    "\n",
    "for i in range(1, 6):\n",
    "    mid[i] = sum_[i] / total[i]\n",
    "    for item in df.to_numpy():\n",
    "        std_dev[i] += ( mid[i] - item[i]) ** 2\n",
    "\n",
    "data_out = [[]]\n",
    "\n",
    "for i in range(1, 6):\n",
    "    data_out.append([df.columns.tolist()[i - 1]])\n",
    "    data_out[i].append(mid[i])\n",
    "    data_out[i].append((std_dev[i] / total[i]) ** 0.5)\n",
    "    data_out[i].append(min(df.to_numpy()[:, i]))\n",
    "    data_out[i].append(max(df.to_numpy()[:, i]))\n",
    "    data_out[i].append(percentile(df.to_numpy()[:, 1], 0.25))\n",
    "    data_out[i].append(percentile(df.to_numpy()[:, 1], 0.50))\n",
    "    data_out[i].append(percentile(df.to_numpy()[:, 1], 0.75))\n",
    "res = pd.DataFrame(data=data_out, index=df.columns.tolist())"
   ]
  },
  {
   "cell_type": "code",
   "execution_count": 203,
   "metadata": {},
   "outputs": [
    {
     "data": {
      "text/html": [
       "<div>\n",
       "<style scoped>\n",
       "    .dataframe tbody tr th:only-of-type {\n",
       "        vertical-align: middle;\n",
       "    }\n",
       "\n",
       "    .dataframe tbody tr th {\n",
       "        vertical-align: top;\n",
       "    }\n",
       "\n",
       "    .dataframe thead th {\n",
       "        text-align: right;\n",
       "    }\n",
       "</style>\n",
       "<table border=\"1\" class=\"dataframe\">\n",
       "  <thead>\n",
       "    <tr style=\"text-align: right;\">\n",
       "      <th></th>\n",
       "      <th>Total score (1)</th>\n",
       "      <th>1st Half</th>\n",
       "      <th>2nd Half</th>\n",
       "      <th>Xs</th>\n",
       "      <th>Total score (2)</th>\n",
       "    </tr>\n",
       "  </thead>\n",
       "  <tbody>\n",
       "    <tr>\n",
       "      <th>mid</th>\n",
       "      <td>624.406250</td>\n",
       "      <td>313.53125</td>\n",
       "      <td>310.87500</td>\n",
       "      <td>5.859375</td>\n",
       "      <td>651.093750</td>\n",
       "    </tr>\n",
       "    <tr>\n",
       "      <th>std</th>\n",
       "      <td>28.297923</td>\n",
       "      <td>14.78594</td>\n",
       "      <td>15.13223</td>\n",
       "      <td>2.844222</td>\n",
       "      <td>20.826455</td>\n",
       "    </tr>\n",
       "    <tr>\n",
       "      <th>min</th>\n",
       "      <td>539.000000</td>\n",
       "      <td>270.00000</td>\n",
       "      <td>253.00000</td>\n",
       "      <td>1.000000</td>\n",
       "      <td>563.000000</td>\n",
       "    </tr>\n",
       "    <tr>\n",
       "      <th>max</th>\n",
       "      <td>673.000000</td>\n",
       "      <td>339.00000</td>\n",
       "      <td>337.00000</td>\n",
       "      <td>14.000000</td>\n",
       "      <td>679.000000</td>\n",
       "    </tr>\n",
       "    <tr>\n",
       "      <th>25</th>\n",
       "      <td>643.250000</td>\n",
       "      <td>643.25000</td>\n",
       "      <td>643.25000</td>\n",
       "      <td>643.250000</td>\n",
       "      <td>643.250000</td>\n",
       "    </tr>\n",
       "    <tr>\n",
       "      <th>50</th>\n",
       "      <td>630.500000</td>\n",
       "      <td>630.50000</td>\n",
       "      <td>630.50000</td>\n",
       "      <td>630.500000</td>\n",
       "      <td>630.500000</td>\n",
       "    </tr>\n",
       "    <tr>\n",
       "      <th>75</th>\n",
       "      <td>615.500000</td>\n",
       "      <td>615.50000</td>\n",
       "      <td>615.50000</td>\n",
       "      <td>615.500000</td>\n",
       "      <td>615.500000</td>\n",
       "    </tr>\n",
       "  </tbody>\n",
       "</table>\n",
       "</div>"
      ],
      "text/plain": [
       "     Total score (1)   1st Half   2nd Half          Xs  Total score (2)\n",
       "mid       624.406250  313.53125  310.87500    5.859375       651.093750\n",
       "std        28.297923   14.78594   15.13223    2.844222        20.826455\n",
       "min       539.000000  270.00000  253.00000    1.000000       563.000000\n",
       "max       673.000000  339.00000  337.00000   14.000000       679.000000\n",
       "25        643.250000  643.25000  643.25000  643.250000       643.250000\n",
       "50        630.500000  630.50000  630.50000  630.500000       630.500000\n",
       "75        615.500000  615.50000  615.50000  615.500000       615.500000"
      ]
     },
     "execution_count": 203,
     "metadata": {},
     "output_type": "execute_result"
    }
   ],
   "source": [
    "# добавляем значения, транспонируем таблицу и убираем ненужные столбцы\n",
    "res.columns = [\"\", \"mid\", \"std\", \"min\", \"max\", \"25\", \"50\", \"75\"]\n",
    "res = res.drop(res.columns[0], axis='columns')\n",
    "res = res.transpose()\n",
    "res = res.drop(res.columns[0], axis='columns')\n",
    "res"
   ]
  },
  {
   "cell_type": "code",
   "execution_count": 231,
   "metadata": {},
   "outputs": [
    {
     "name": "stdout",
     "output_type": "stream",
     "text": [
      "unique : 0.671875\n",
      "max : 673\n",
      "min : 539\n",
      "mean :624.40625\n"
     ]
    },
    {
     "data": {
      "image/png": "[encoded data removed]",
      "text/plain": [
       "<Figure size 576x396 with 1 Axes>"
      ]
     },
     "metadata": {},
     "output_type": "display_data"
    },
    {
     "name": "stdout",
     "output_type": "stream",
     "text": [
      "unique : 0.578125\n",
      "max : 339\n",
      "min : 270\n",
      "mean :313.53125\n"
     ]
    },
    {
     "data": {
      "image/png": "[encoded data removed]",
      "text/plain": [
       "<Figure size 576x396 with 1 Axes>"
      ]
     },
     "metadata": {},
     "output_type": "display_data"
    },
    {
     "name": "stdout",
     "output_type": "stream",
     "text": [
      "unique : 0.59375\n",
      "max : 337\n",
      "min : 253\n",
      "mean :310.875\n"
     ]
    },
    {
     "data": {
      "image/png": "[encoded data removed]",
      "text/plain": [
       "<Figure size 576x396 with 1 Axes>"
      ]
     },
     "metadata": {},
     "output_type": "display_data"
    },
    {
     "name": "stdout",
     "output_type": "stream",
     "text": [
      "unique : 0.203125\n",
      "max : 14\n",
      "min : 1\n",
      "mean :5.859375\n"
     ]
    },
    {
     "data": {
      "image/png": "[encoded data removed]",
      "text/plain": [
       "<Figure size 576x396 with 1 Axes>"
      ]
     },
     "metadata": {},
     "output_type": "display_data"
    },
    {
     "name": "stdout",
     "output_type": "stream",
     "text": [
      "unique : 0.59375\n",
      "max : 679\n",
      "min : 563\n",
      "mean :651.09375\n"
     ]
    },
    {
     "data": {
      "image/png": "[encoded data removed]",
      "text/plain": [
       "<Figure size 576x396 with 1 Axes>"
      ]
     },
     "metadata": {},
     "output_type": "display_data"
    }
   ],
   "source": [
    "for i in range(1, 6):\n",
    "    print(\"unique : {}\".format(len(set(df.to_numpy()[:, i].tolist()))/ len(df.to_numpy()[:, i].tolist())))\n",
    "    print(\"max : {}\".format(max(df.to_numpy()[:, i].tolist())))\n",
    "    print(\"min : {}\".format(min(df.to_numpy()[:, i].tolist())))\n",
    "    print(\"mean :{}\".format(mid[i]))\n",
    "    plt.hist(df.to_numpy()[:, i].tolist(), label=df.columns.tolist()[i - 1])\n",
    "    plt.legend(loc=\"upper left\")\n",
    "    plt.show()"
   ]
  },
  {
   "cell_type": "code",
   "execution_count": 210,
   "metadata": {},
   "outputs": [
    {
     "data": {
      "text/plain": [
       "(array([ 3.,  0.,  2.,  4.,  4.,  7., 13., 20.,  7.,  4.]),\n",
       " array([539. , 552.4, 565.8, 579.2, 592.6, 606. , 619.4, 632.8, 646.2,\n",
       "        659.6, 673. ]),\n",
       " <a list of 10 Patch objects>)"
      ]
     },
     "execution_count": 210,
     "metadata": {},
     "output_type": "execute_result"
    },
    {
     "data": {
      "image/png": "[encoded data removed]",
      "text/plain": [
       "<Figure size 576x396 with 1 Axes>"
      ]
     },
     "metadata": {},
     "output_type": "display_data"
    }
   ],
   "source": [
    " plt.hist(df.to_numpy()[:, 1].tolist())"
   ]
  },
  {
   "cell_type": "code",
   "execution_count": 268,
   "metadata": {},
   "outputs": [],
   "source": [
    "raw_data = []\n",
    "for item in df.to_numpy().tolist():\n",
    "    raw_data.append(item[1:])\n",
    "raw_data\n",
    "data_ = [[], [], [], [], []]\n",
    "for item in raw_data:\n",
    "    for i in range(5):\n",
    "        data_[i].append(item[i])"
   ]
  },
  {
   "cell_type": "code",
   "execution_count": 241,
   "metadata": {},
   "outputs": [
    {
     "ename": "NameError",
     "evalue": "name 'pearsonr' is not defined",
     "output_type": "error",
     "traceback": [
      "\u001b[0;31m---------------------------------------------------------------------------\u001b[0m",
      "\u001b[0;31mNameError\u001b[0m                                 Traceback (most recent call last)",
      "\u001b[0;32m<ipython-input-241-c8bd4c4a22b0>\u001b[0m in \u001b[0;36m<module>\u001b[0;34m\u001b[0m\n\u001b[0;32m----> 1\u001b[0;31m \u001b[0mcorrmap\u001b[0m\u001b[0;34m[\u001b[0m\u001b[0mi\u001b[0m\u001b[0;34m,\u001b[0m \u001b[0mj\u001b[0m\u001b[0;34m]\u001b[0m\u001b[0;34m,\u001b[0m \u001b[0mp_value\u001b[0m \u001b[0;34m=\u001b[0m \u001b[0mpearsonr\u001b[0m\u001b[0;34m(\u001b[0m\u001b[0mraw_data\u001b[0m\u001b[0;34m[\u001b[0m\u001b[0;34m:\u001b[0m\u001b[0;34m,\u001b[0m \u001b[0mi\u001b[0m\u001b[0;34m,\u001b[0m \u001b[0mj\u001b[0m\u001b[0;34m]\u001b[0m\u001b[0;34m.\u001b[0m\u001b[0mravel\u001b[0m\u001b[0;34m(\u001b[0m\u001b[0;34m)\u001b[0m\u001b[0;34m,\u001b[0m \u001b[0my\u001b[0m\u001b[0;34m)\u001b[0m\u001b[0;34m\u001b[0m\u001b[0;34m\u001b[0m\u001b[0m\n\u001b[0m",
      "\u001b[0;31mNameError\u001b[0m: name 'pearsonr' is not defined"
     ]
    }
   ],
   "source": [
    "corrmap[i, j], p_value = pearsonr(raw_data[:, i, j].ravel(), y)"
   ]
  },
  {
   "cell_type": "code",
   "execution_count": 260,
   "metadata": {},
   "outputs": [],
   "source": [
    "def average(x):\n",
    "    assert len(x) > 0\n",
    "    return float(sum(x)) / len(x)\n",
    "\n",
    "def pearson_def(x, y):\n",
    "    assert len(x) == len(y)\n",
    "    n = len(x)\n",
    "    assert n > 0\n",
    "    avg_x = average(x)\n",
    "    avg_y = average(y)\n",
    "    diffprod = 0\n",
    "    xdiff2 = 0\n",
    "    ydiff2 = 0\n",
    "    for idx in range(n):\n",
    "        xdiff = x[idx] - avg_x\n",
    "        ydiff = y[idx] - avg_y\n",
    "        diffprod += xdiff * ydiff\n",
    "        xdiff2 += xdiff * xdiff\n",
    "        ydiff2 += ydiff * ydiff\n",
    "\n",
    "    return diffprod / math.sqrt(xdiff2 * ydiff2)"
   ]
  },
  {
   "cell_type": "code",
   "execution_count": 266,
   "metadata": {},
   "outputs": [
    {
     "name": "stdout",
     "output_type": "stream",
     "text": [
      "Корреляционная матрица пирсона\n",
      "1.0\t0.945\t0.947\t0.543\t0.446\t\n",
      "0.945\t1.0\t0.789\t0.565\t0.381\t\n",
      "0.947\t0.789\t1.0\t0.462\t0.462\t\n",
      "0.543\t0.565\t0.462\t1.0\t0.176\t\n",
      "0.446\t0.381\t0.462\t0.176\t1.0\t\n"
     ]
    }
   ],
   "source": [
    "print(\"Корреляционная матрица пирсона\")\n",
    "for i in range(5):\n",
    "    for j in range(5):\n",
    "        print(float('{:.3f}'.format(pearson_def(data_[i], data_[j]))), end = \"\\t\")\n",
    "    print()"
   ]
  },
  {
   "cell_type": "code",
   "execution_count": 267,
   "metadata": {},
   "outputs": [],
   "source": [
    "def mean_confidence_interval(data, confidence=0.95):\n",
    "    a = 1.0 * np.array(data)\n",
    "    n = len(a)\n",
    "    m, se = np.mean(a), scipy.stats.sem(a)\n",
    "    h = se * scipy.stats.t.ppf((1 + confidence) / 2., n-1)\n",
    "    return m, m-h, m+h"
   ]
  },
  {
   "cell_type": "code",
   "execution_count": 273,
   "metadata": {},
   "outputs": [
    {
     "name": "stdout",
     "output_type": "stream",
     "text": [
      "conf interval for Archer(Women)\n",
      "conf = 1.0\n",
      "(624.40625, -inf, inf)\n",
      "conf = 0.95\n",
      "(624.40625, 617.2817598705153, 631.5307401294847)\n",
      "conf = 0.9\n",
      "(624.40625, 618.4544918283294, 630.3580081716706)\n",
      "----------------------------------------------------------------------------------------------------\n",
      "conf interval for Total score (1)\n",
      "conf = 1.0\n",
      "(313.53125, -inf, inf)\n",
      "conf = 0.95\n",
      "(313.53125, 309.80863463233936, 317.25386536766064)\n",
      "conf = 0.9\n",
      "(313.53125, 310.4213984833605, 316.6411015166395)\n",
      "----------------------------------------------------------------------------------------------------\n",
      "conf interval for 1st Half\n",
      "conf = 1.0\n",
      "(310.875, -inf, inf)\n",
      "conf = 0.95\n",
      "(310.875, 307.06520024990476, 314.68479975009524)\n",
      "conf = 0.9\n",
      "(310.875, 307.6923151505653, 314.0576848494347)\n",
      "----------------------------------------------------------------------------------------------------\n",
      "conf interval for 2nd Half\n",
      "conf = 1.0\n",
      "(5.859375, -inf, inf)\n",
      "conf = 0.95\n",
      "(5.859375, 5.143293031382028, 6.575456968617972)\n",
      "conf = 0.9\n",
      "(5.859375, 5.261164232513649, 6.457585767486351)\n",
      "----------------------------------------------------------------------------------------------------\n",
      "conf interval for Xs\n",
      "conf = 1.0\n",
      "(651.09375, -inf, inf)\n",
      "conf = 0.95\n",
      "(651.09375, 645.8503309402123, 656.3371690597877)\n",
      "conf = 0.9\n",
      "(651.09375, 646.7134278057938, 655.4740721942062)\n",
      "----------------------------------------------------------------------------------------------------\n"
     ]
    }
   ],
   "source": [
    "for i in range(1, 6):\n",
    "    print(\"conf interval for {}\".format(df.columns.tolist()[i - 1]))\n",
    "    for j in range(3):\n",
    "        print(\"conf = {}\".format((1 - j * 0.05)))\n",
    "        print(mean_confidence_interval(df.to_numpy()[:, i].tolist(), (1 - j * 0.05)))\n",
    "    print(\"-\"*100)"
   ]
  },
  {
   "cell_type": "code",
   "execution_count": null,
   "metadata": {},
   "outputs": [],
   "source": []
  }
 ],
 "metadata": {
  "kernelspec": {
   "display_name": "Python 3",
   "language": "python",
   "name": "python3"
  },
  "language_info": {
   "codemirror_mode": {
    "name": "ipython",
    "version": 3
   },
   "file_extension": ".py",
   "mimetype": "text/x-python",
   "name": "python",
   "nbconvert_exporter": "python",
   "pygments_lexer": "ipython3",
   "version": "3.7.6"
  }
 },
 "nbformat": 4,
 "nbformat_minor": 2
}
